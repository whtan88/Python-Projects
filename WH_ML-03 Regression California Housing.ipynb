{
 "cells": [
  {
   "cell_type": "markdown",
   "metadata": {},
   "source": [
    "# California Housing"
   ]
  },
  {
   "cell_type": "markdown",
   "metadata": {},
   "source": [
    "The dataset is common and readily available for download from the sklearn library.\n",
    "<br>\n",
    "This dataset was derived from the 1990 U.S. census, using one row per census block group. A block group is the smallest geographical unit for which the U.S. Census Bureau publishes sample data (a block group typically has a population of 600 to 3,000 people).\n",
    "\n",
    "## Objective\n",
    "\n",
    "1) To attempt to see if there are any correlation between the parameters and predicting the Median Housing Value.\n",
    "<br> \n",
    "2) To attempt to get the best accuracy score using various supervised machine learning algorithms."
   ]
  },
  {
   "cell_type": "markdown",
   "metadata": {},
   "source": [
    "## To do list\n",
    "Below would be my train of thought of the things need to be done in order to process the dataset and to get the algorithm to predict. I will be using it as a task list to check off items done as well.\n",
    "\n",
    "- understand the database and the parameters [done]\n",
    "- any missing/blank values in the dataset? [done]\n",
    "- check data information & distribution of data [done]\n",
    "- account for any outliers? [done]\n",
    "- any correlation so that can drop off data? [done]\n",
    "- Hypothesis Testing if any? [done]\n",
    "- train / validation / test dataset split? [done]\n",
    "- Feature Scaling [done]\n",
    "- ratio of targets? is it sufficient? Does it require upsampling/downsampling? [done]\n",
    "- PCA decomposition required? [done]\n",
    "- various Algorithms to be used [done]\n",
    "- need to build pipeline? [done]\n",
    "- predict accuracy and Confusion metrics [done]\n",
    "- ROC & AUC [done]\n",
    "- conclusion [done]"
   ]
  },
  {
   "cell_type": "code",
   "execution_count": 1,
   "metadata": {},
   "outputs": [
    {
     "name": "stderr",
     "output_type": "stream",
     "text": [
      "C:\\Users\\User\\Anaconda3\\lib\\site-packages\\statsmodels\\tools\\_testing.py:19: FutureWarning: pandas.util.testing is deprecated. Use the functions in the public API at pandas.testing instead.\n",
      "  import pandas.util.testing as tm\n"
     ]
    }
   ],
   "source": [
    "# Import libraries which will be used.\n",
    "\n",
    "import pandas as pd\n",
    "import matplotlib.pyplot as plt\n",
    "%matplotlib inline\n",
    "import numpy as np\n",
    "import seaborn as sns\n",
    "from scipy import stats\n",
    "\n",
    "from sklearn.datasets import fetch_california_housing\n",
    "\n",
    "from sklearn.model_selection import train_test_split\n",
    "from sklearn import preprocessing\n",
    "\n",
    "from sklearn.model_selection import GridSearchCV\n",
    "\n",
    "from sklearn.linear_model import LinearRegression\n",
    "from sklearn.linear_model import Ridge\n",
    "from sklearn.linear_model import Lasso\n",
    "\n",
    "from sklearn.tree import DecisionTreeRegressor\n",
    "from sklearn.ensemble import RandomForestRegressor\n",
    "from sklearn.ensemble import AdaBoostRegressor\n",
    "from sklearn.ensemble import BaggingRegressor\n",
    "\n",
    "from sklearn.metrics import explained_variance_score\n",
    "from sklearn.metrics import mean_absolute_error\n",
    "from sklearn.metrics import mean_squared_error"
   ]
  },
  {
   "cell_type": "code",
   "execution_count": 2,
   "metadata": {},
   "outputs": [
    {
     "data": {
      "text/html": [
       "<div>\n",
       "<style scoped>\n",
       "    .dataframe tbody tr th:only-of-type {\n",
       "        vertical-align: middle;\n",
       "    }\n",
       "\n",
       "    .dataframe tbody tr th {\n",
       "        vertical-align: top;\n",
       "    }\n",
       "\n",
       "    .dataframe thead th {\n",
       "        text-align: right;\n",
       "    }\n",
       "</style>\n",
       "<table border=\"1\" class=\"dataframe\">\n",
       "  <thead>\n",
       "    <tr style=\"text-align: right;\">\n",
       "      <th></th>\n",
       "      <th>MedInc</th>\n",
       "      <th>HouseAge</th>\n",
       "      <th>AveRooms</th>\n",
       "      <th>AveBedrms</th>\n",
       "      <th>Population</th>\n",
       "      <th>AveOccup</th>\n",
       "      <th>Latitude</th>\n",
       "      <th>Longitude</th>\n",
       "      <th>MedianHouseValue</th>\n",
       "    </tr>\n",
       "  </thead>\n",
       "  <tbody>\n",
       "    <tr>\n",
       "      <th>0</th>\n",
       "      <td>8.3252</td>\n",
       "      <td>41.0</td>\n",
       "      <td>6.984127</td>\n",
       "      <td>1.023810</td>\n",
       "      <td>322.0</td>\n",
       "      <td>2.555556</td>\n",
       "      <td>37.88</td>\n",
       "      <td>-122.23</td>\n",
       "      <td>4.526</td>\n",
       "    </tr>\n",
       "    <tr>\n",
       "      <th>1</th>\n",
       "      <td>8.3014</td>\n",
       "      <td>21.0</td>\n",
       "      <td>6.238137</td>\n",
       "      <td>0.971880</td>\n",
       "      <td>2401.0</td>\n",
       "      <td>2.109842</td>\n",
       "      <td>37.86</td>\n",
       "      <td>-122.22</td>\n",
       "      <td>3.585</td>\n",
       "    </tr>\n",
       "    <tr>\n",
       "      <th>2</th>\n",
       "      <td>7.2574</td>\n",
       "      <td>52.0</td>\n",
       "      <td>8.288136</td>\n",
       "      <td>1.073446</td>\n",
       "      <td>496.0</td>\n",
       "      <td>2.802260</td>\n",
       "      <td>37.85</td>\n",
       "      <td>-122.24</td>\n",
       "      <td>3.521</td>\n",
       "    </tr>\n",
       "    <tr>\n",
       "      <th>3</th>\n",
       "      <td>5.6431</td>\n",
       "      <td>52.0</td>\n",
       "      <td>5.817352</td>\n",
       "      <td>1.073059</td>\n",
       "      <td>558.0</td>\n",
       "      <td>2.547945</td>\n",
       "      <td>37.85</td>\n",
       "      <td>-122.25</td>\n",
       "      <td>3.413</td>\n",
       "    </tr>\n",
       "    <tr>\n",
       "      <th>4</th>\n",
       "      <td>3.8462</td>\n",
       "      <td>52.0</td>\n",
       "      <td>6.281853</td>\n",
       "      <td>1.081081</td>\n",
       "      <td>565.0</td>\n",
       "      <td>2.181467</td>\n",
       "      <td>37.85</td>\n",
       "      <td>-122.25</td>\n",
       "      <td>3.422</td>\n",
       "    </tr>\n",
       "  </tbody>\n",
       "</table>\n",
       "</div>"
      ],
      "text/plain": [
       "   MedInc  HouseAge  AveRooms  AveBedrms  Population  AveOccup  Latitude  \\\n",
       "0  8.3252      41.0  6.984127   1.023810       322.0  2.555556     37.88   \n",
       "1  8.3014      21.0  6.238137   0.971880      2401.0  2.109842     37.86   \n",
       "2  7.2574      52.0  8.288136   1.073446       496.0  2.802260     37.85   \n",
       "3  5.6431      52.0  5.817352   1.073059       558.0  2.547945     37.85   \n",
       "4  3.8462      52.0  6.281853   1.081081       565.0  2.181467     37.85   \n",
       "\n",
       "   Longitude  MedianHouseValue  \n",
       "0    -122.23             4.526  \n",
       "1    -122.22             3.585  \n",
       "2    -122.24             3.521  \n",
       "3    -122.25             3.413  \n",
       "4    -122.25             3.422  "
      ]
     },
     "execution_count": 2,
     "metadata": {},
     "output_type": "execute_result"
    }
   ],
   "source": [
    "df = fetch_california_housing()\n",
    "y = df.target\n",
    "df = pd.DataFrame(df.data, columns=df.feature_names)\n",
    "df['MedianHouseValue'] = y\n",
    "df.head()"
   ]
  },
  {
   "cell_type": "markdown",
   "metadata": {},
   "source": [
    "### Understanding parameters\n",
    "\n",
    "Below are the definition of the parameters from sklearn website.\n",
    "<br>MedInc: median income in block\n",
    "<br>HouseAge: median house age in block\n",
    "<br>AveRooms: average number of rooms\n",
    "<br>AveBedrms: average number of bedrooms\n",
    "<br>Population: block population\n",
    "<br>AveOccup: average house occupancy\n",
    "<br>Latitude: house block latitude\n",
    "<br>Longitude: house block longitude\n",
    "<br>MedianHouseValue: Target Column, median house value in block"
   ]
  },
  {
   "cell_type": "markdown",
   "metadata": {},
   "source": [
    "# Exploratory Data Analysis"
   ]
  },
  {
   "cell_type": "markdown",
   "metadata": {},
   "source": [
    "### Check missing values"
   ]
  },
  {
   "cell_type": "code",
   "execution_count": 3,
   "metadata": {},
   "outputs": [
    {
     "data": {
      "text/plain": [
       "MedInc              0\n",
       "HouseAge            0\n",
       "AveRooms            0\n",
       "AveBedrms           0\n",
       "Population          0\n",
       "AveOccup            0\n",
       "Latitude            0\n",
       "Longitude           0\n",
       "MedianHouseValue    0\n",
       "dtype: int64"
      ]
     },
     "execution_count": 3,
     "metadata": {},
     "output_type": "execute_result"
    }
   ],
   "source": [
    "# Check if there are any missing values in the dataset\n",
    "\n",
    "df.isnull().sum()"
   ]
  },
  {
   "cell_type": "markdown",
   "metadata": {},
   "source": [
    "From the above, there doesn't seem to be any missing value points."
   ]
  },
  {
   "cell_type": "markdown",
   "metadata": {},
   "source": [
    "### Check database information"
   ]
  },
  {
   "cell_type": "code",
   "execution_count": 4,
   "metadata": {},
   "outputs": [
    {
     "name": "stdout",
     "output_type": "stream",
     "text": [
      "<class 'pandas.core.frame.DataFrame'>\n",
      "RangeIndex: 20640 entries, 0 to 20639\n",
      "Data columns (total 9 columns):\n",
      " #   Column            Non-Null Count  Dtype  \n",
      "---  ------            --------------  -----  \n",
      " 0   MedInc            20640 non-null  float64\n",
      " 1   HouseAge          20640 non-null  float64\n",
      " 2   AveRooms          20640 non-null  float64\n",
      " 3   AveBedrms         20640 non-null  float64\n",
      " 4   Population        20640 non-null  float64\n",
      " 5   AveOccup          20640 non-null  float64\n",
      " 6   Latitude          20640 non-null  float64\n",
      " 7   Longitude         20640 non-null  float64\n",
      " 8   MedianHouseValue  20640 non-null  float64\n",
      "dtypes: float64(9)\n",
      "memory usage: 1.4 MB\n"
     ]
    }
   ],
   "source": [
    "df.info()"
   ]
  },
  {
   "cell_type": "code",
   "execution_count": 5,
   "metadata": {},
   "outputs": [
    {
     "data": {
      "text/html": [
       "<div>\n",
       "<style scoped>\n",
       "    .dataframe tbody tr th:only-of-type {\n",
       "        vertical-align: middle;\n",
       "    }\n",
       "\n",
       "    .dataframe tbody tr th {\n",
       "        vertical-align: top;\n",
       "    }\n",
       "\n",
       "    .dataframe thead th {\n",
       "        text-align: right;\n",
       "    }\n",
       "</style>\n",
       "<table border=\"1\" class=\"dataframe\">\n",
       "  <thead>\n",
       "    <tr style=\"text-align: right;\">\n",
       "      <th></th>\n",
       "      <th>MedInc</th>\n",
       "      <th>HouseAge</th>\n",
       "      <th>AveRooms</th>\n",
       "      <th>AveBedrms</th>\n",
       "      <th>Population</th>\n",
       "      <th>AveOccup</th>\n",
       "      <th>Latitude</th>\n",
       "      <th>Longitude</th>\n",
       "      <th>MedianHouseValue</th>\n",
       "    </tr>\n",
       "  </thead>\n",
       "  <tbody>\n",
       "    <tr>\n",
       "      <th>count</th>\n",
       "      <td>20640.000000</td>\n",
       "      <td>20640.000000</td>\n",
       "      <td>20640.000000</td>\n",
       "      <td>20640.000000</td>\n",
       "      <td>20640.000000</td>\n",
       "      <td>20640.000000</td>\n",
       "      <td>20640.000000</td>\n",
       "      <td>20640.000000</td>\n",
       "      <td>20640.000000</td>\n",
       "    </tr>\n",
       "    <tr>\n",
       "      <th>mean</th>\n",
       "      <td>3.870671</td>\n",
       "      <td>28.639486</td>\n",
       "      <td>5.429000</td>\n",
       "      <td>1.096675</td>\n",
       "      <td>1425.476744</td>\n",
       "      <td>3.070655</td>\n",
       "      <td>35.631861</td>\n",
       "      <td>-119.569704</td>\n",
       "      <td>2.068558</td>\n",
       "    </tr>\n",
       "    <tr>\n",
       "      <th>std</th>\n",
       "      <td>1.899822</td>\n",
       "      <td>12.585558</td>\n",
       "      <td>2.474173</td>\n",
       "      <td>0.473911</td>\n",
       "      <td>1132.462122</td>\n",
       "      <td>10.386050</td>\n",
       "      <td>2.135952</td>\n",
       "      <td>2.003532</td>\n",
       "      <td>1.153956</td>\n",
       "    </tr>\n",
       "    <tr>\n",
       "      <th>min</th>\n",
       "      <td>0.499900</td>\n",
       "      <td>1.000000</td>\n",
       "      <td>0.846154</td>\n",
       "      <td>0.333333</td>\n",
       "      <td>3.000000</td>\n",
       "      <td>0.692308</td>\n",
       "      <td>32.540000</td>\n",
       "      <td>-124.350000</td>\n",
       "      <td>0.149990</td>\n",
       "    </tr>\n",
       "    <tr>\n",
       "      <th>25%</th>\n",
       "      <td>2.563400</td>\n",
       "      <td>18.000000</td>\n",
       "      <td>4.440716</td>\n",
       "      <td>1.006079</td>\n",
       "      <td>787.000000</td>\n",
       "      <td>2.429741</td>\n",
       "      <td>33.930000</td>\n",
       "      <td>-121.800000</td>\n",
       "      <td>1.196000</td>\n",
       "    </tr>\n",
       "    <tr>\n",
       "      <th>50%</th>\n",
       "      <td>3.534800</td>\n",
       "      <td>29.000000</td>\n",
       "      <td>5.229129</td>\n",
       "      <td>1.048780</td>\n",
       "      <td>1166.000000</td>\n",
       "      <td>2.818116</td>\n",
       "      <td>34.260000</td>\n",
       "      <td>-118.490000</td>\n",
       "      <td>1.797000</td>\n",
       "    </tr>\n",
       "    <tr>\n",
       "      <th>75%</th>\n",
       "      <td>4.743250</td>\n",
       "      <td>37.000000</td>\n",
       "      <td>6.052381</td>\n",
       "      <td>1.099526</td>\n",
       "      <td>1725.000000</td>\n",
       "      <td>3.282261</td>\n",
       "      <td>37.710000</td>\n",
       "      <td>-118.010000</td>\n",
       "      <td>2.647250</td>\n",
       "    </tr>\n",
       "    <tr>\n",
       "      <th>max</th>\n",
       "      <td>15.000100</td>\n",
       "      <td>52.000000</td>\n",
       "      <td>141.909091</td>\n",
       "      <td>34.066667</td>\n",
       "      <td>35682.000000</td>\n",
       "      <td>1243.333333</td>\n",
       "      <td>41.950000</td>\n",
       "      <td>-114.310000</td>\n",
       "      <td>5.000010</td>\n",
       "    </tr>\n",
       "  </tbody>\n",
       "</table>\n",
       "</div>"
      ],
      "text/plain": [
       "             MedInc      HouseAge      AveRooms     AveBedrms    Population  \\\n",
       "count  20640.000000  20640.000000  20640.000000  20640.000000  20640.000000   \n",
       "mean       3.870671     28.639486      5.429000      1.096675   1425.476744   \n",
       "std        1.899822     12.585558      2.474173      0.473911   1132.462122   \n",
       "min        0.499900      1.000000      0.846154      0.333333      3.000000   \n",
       "25%        2.563400     18.000000      4.440716      1.006079    787.000000   \n",
       "50%        3.534800     29.000000      5.229129      1.048780   1166.000000   \n",
       "75%        4.743250     37.000000      6.052381      1.099526   1725.000000   \n",
       "max       15.000100     52.000000    141.909091     34.066667  35682.000000   \n",
       "\n",
       "           AveOccup      Latitude     Longitude  MedianHouseValue  \n",
       "count  20640.000000  20640.000000  20640.000000      20640.000000  \n",
       "mean       3.070655     35.631861   -119.569704          2.068558  \n",
       "std       10.386050      2.135952      2.003532          1.153956  \n",
       "min        0.692308     32.540000   -124.350000          0.149990  \n",
       "25%        2.429741     33.930000   -121.800000          1.196000  \n",
       "50%        2.818116     34.260000   -118.490000          1.797000  \n",
       "75%        3.282261     37.710000   -118.010000          2.647250  \n",
       "max     1243.333333     41.950000   -114.310000          5.000010  "
      ]
     },
     "execution_count": 5,
     "metadata": {},
     "output_type": "execute_result"
    }
   ],
   "source": [
    "df.describe()"
   ]
  },
  {
   "cell_type": "markdown",
   "metadata": {},
   "source": [
    "At first glance, there doesn't seem like any unusual figures in the data, ie aveRooms=0. \n",
    "<br> However, I do observe that there are significant outliers in the data as the max values are quite far away from the 3rd Quartile, such as aveRooms & aveBedrms. Rare few of the houses must be really huge to have so many rooms and bedrooms. \n",
    "<br> In addition, some of the parameters have high standard deviation, which would suggest that there is a wide range of distribution values for the parameters."
   ]
  },
  {
   "cell_type": "code",
   "execution_count": 6,
   "metadata": {},
   "outputs": [
    {
     "data": {
      "image/png": "[encoded data removed]",
      "text/plain": [
       "<Figure size 720x720 with 9 Axes>"
      ]
     },
     "metadata": {
      "needs_background": "light"
     },
     "output_type": "display_data"
    }
   ],
   "source": [
    "# Histogram plot of data\n",
    "\n",
    "col = list(df.columns)\n",
    "df[col].hist(stacked=True, bins=20, figsize=(10,10), layout=(3,3))\n",
    "plt.tight_layout()"
   ]
  },
  {
   "cell_type": "code",
   "execution_count": 7,
   "metadata": {
    "scrolled": false
   },
   "outputs": [
    {
     "data": {
      "image/png": "[encoded data removed]",
      "text/plain": [
       "<Figure size 432x432 with 3 Axes>"
      ]
     },
     "metadata": {
      "needs_background": "light"
     },
     "output_type": "display_data"
    },
    {
     "data": {
      "image/png": "[encoded data removed]",
      "text/plain": [
       "<Figure size 432x432 with 3 Axes>"
      ]
     },
     "metadata": {
      "needs_background": "light"
     },
     "output_type": "display_data"
    },
    {
     "data": {
      "image/png": "[encoded data removed]",
      "text/plain": [
       "<Figure size 432x432 with 3 Axes>"
      ]
     },
     "metadata": {
      "needs_background": "light"
     },
     "output_type": "display_data"
    },
    {
     "data": {
      "image/png": "[encoded data removed]",
      "text/plain": [
       "<Figure size 432x432 with 3 Axes>"
      ]
     },
     "metadata": {
      "needs_background": "light"
     },
     "output_type": "display_data"
    },
    {
     "data": {
      "image/png": "[encoded data removed]",
      "text/plain": [
       "<Figure size 432x432 with 3 Axes>"
      ]
     },
     "metadata": {
      "needs_background": "light"
     },
     "output_type": "display_data"
    },
    {
     "data": {
      "image/png": "[encoded data removed]",
      "text/plain": [
       "<Figure size 432x432 with 3 Axes>"
      ]
     },
     "metadata": {
      "needs_background": "light"
     },
     "output_type": "display_data"
    }
   ],
   "source": [
    "for i in col[:-3]:\n",
    "    sns.jointplot(i, \"MedianHouseValue\", data=df,color=\"g\")"
   ]
  },
  {
   "cell_type": "markdown",
   "metadata": {},
   "source": [
    "The above charts paint a slightly messy picture. What I can tell from the histograms, is that most of the data, including the MedianHouseValue, is positively skewed, having outliers with high values. This is made more apparent by the jointplot, where we can see that there are a few data points with high values that skew the data significantly.\n",
    "<br> Additionally, there is no clear distinct relationship between the parameters and MedianHouseValue, apart from MedInc, where a high number of people with lower MedInc have properties which have higher MedianHouseValue.\n",
    "<br> Since there doesn't seem to have much impact/difference for AveOccup on the MedianHouseValue (due to the close to vertical line of data plotted for AveOccup against MedianHouseValue), I might drop this variable from the machine learning algorithm.\n",
    "<br> Similarly for AveBedrms, AveRooms, the MedianHouseValue is clustered tightly and mostly for low values."
   ]
  },
  {
   "cell_type": "markdown",
   "metadata": {},
   "source": [
    "### Account for outliers?"
   ]
  },
  {
   "cell_type": "markdown",
   "metadata": {},
   "source": [
    "As mentioned previously, it is clear that the parameter data is signficantly skewed, with outliers having very huge values away from the rest of the distribution of the parameter. Hence, there is a need to winsorize it. This will allow us to retain the data, but will reduce the variance, due to the removal of the outliers via replacing it with either the median or quartile values.\n",
    "<br> However, using the below winsorization function method, I have instead decided to replace the outlier values with the nearest quartile values instead. This will help to reduce the impact of change in variance as compared to replacing outlier values with median values."
   ]
  },
  {
   "cell_type": "code",
   "execution_count": 8,
   "metadata": {},
   "outputs": [],
   "source": [
    "# Function to count the data columns beyond the lower & upper whiskers which require winsorization\n",
    "def df_winsorization_count(df,col):\n",
    "    for i in col:\n",
    "        cnt = df[i].count()\n",
    "        q1, q2 = df[i].quantile([0.25, 0.75])\n",
    "        iqr = q2 - q1\n",
    "        lwr_whisk = max(0,q1 - 1.5*iqr)\n",
    "        upp_whisk = q2 + 1.5*iqr\n",
    "\n",
    "        upp_whisk_cnt = str(df[(df[i]>upp_whisk)].count()[i])\n",
    "        lwr_whisk_cnt = str(df[(df[i]<lwr_whisk)].count()[i])\n",
    "        print ('Data column ' + i + ' has ' + lwr_whisk_cnt + ' below the lower whisker and ' + \\\n",
    "               upp_whisk_cnt + ' above the upper whisker out of a total count of ' + str(cnt) + '.')\n",
    "\n",
    "# Function to winsorize the data in the columns\n",
    "def df_winsorization(df,col):\n",
    "    for i in col:\n",
    "        q1, q2 = df[i].quantile([0.25, 0.75])\n",
    "        iqr = q2 - q1\n",
    "        lwr_whisk = max(0,q1 - 1.5*iqr)\n",
    "        upp_whisk = q2 + 1.5*iqr\n",
    "\n",
    "        df.loc[df[i] < lwr_whisk, i] = lwr_whisk\n",
    "        df.loc[df[i] > upp_whisk, i] = upp_whisk"
   ]
  },
  {
   "cell_type": "code",
   "execution_count": 9,
   "metadata": {},
   "outputs": [
    {
     "name": "stdout",
     "output_type": "stream",
     "text": [
      "Data column MedInc has 0 below the lower whisker and 681 above the upper whisker out of a total count of 20640.\n",
      "Data column HouseAge has 0 below the lower whisker and 0 above the upper whisker out of a total count of 20640.\n",
      "Data column AveRooms has 45 below the lower whisker and 466 above the upper whisker out of a total count of 20640.\n",
      "Data column AveBedrms has 188 below the lower whisker and 1236 above the upper whisker out of a total count of 20640.\n",
      "Data column Population has 0 below the lower whisker and 1196 above the upper whisker out of a total count of 20640.\n",
      "Data column AveOccup has 7 below the lower whisker and 704 above the upper whisker out of a total count of 20640.\n",
      "Data column Latitude has 0 below the lower whisker and 0 above the upper whisker out of a total count of 20640.\n",
      "Data column Longitude has 20640 below the lower whisker and 0 above the upper whisker out of a total count of 20640.\n",
      "Data column MedianHouseValue has 0 below the lower whisker and 1071 above the upper whisker out of a total count of 20640.\n"
     ]
    }
   ],
   "source": [
    "# Outlier count before winsorization\n",
    "df_winsorization_count(df,col)"
   ]
  },
  {
   "cell_type": "code",
   "execution_count": 10,
   "metadata": {},
   "outputs": [
    {
     "name": "stdout",
     "output_type": "stream",
     "text": [
      "Data column MedInc has 0 below the lower whisker and 0 above the upper whisker out of a total count of 20640.\n",
      "Data column HouseAge has 0 below the lower whisker and 0 above the upper whisker out of a total count of 20640.\n",
      "Data column AveRooms has 0 below the lower whisker and 0 above the upper whisker out of a total count of 20640.\n",
      "Data column AveBedrms has 0 below the lower whisker and 0 above the upper whisker out of a total count of 20640.\n",
      "Data column Population has 0 below the lower whisker and 0 above the upper whisker out of a total count of 20640.\n",
      "Data column AveOccup has 0 below the lower whisker and 0 above the upper whisker out of a total count of 20640.\n",
      "Data column Latitude has 0 below the lower whisker and 0 above the upper whisker out of a total count of 20640.\n",
      "Data column Longitude has 20640 below the lower whisker and 0 above the upper whisker out of a total count of 20640.\n",
      "Data column MedianHouseValue has 0 below the lower whisker and 1071 above the upper whisker out of a total count of 20640.\n"
     ]
    }
   ],
   "source": [
    "col_win = df.columns[:-3]\n",
    "\n",
    "# Outlier count after winsorization\n",
    "df_winsorization(df,col_win)\n",
    "df_winsorization_count(df,col)"
   ]
  },
  {
   "cell_type": "markdown",
   "metadata": {},
   "source": [
    "It does not make sense to winsorize the latitude and longitude, as they refer to point locations on a map, hence I have excluded them along with the MedianHouseValue, which is what we want to predict from the winsorization. We are then ready to proceed with using the data."
   ]
  },
  {
   "cell_type": "markdown",
   "metadata": {},
   "source": [
    "### Check Correlation of data"
   ]
  },
  {
   "cell_type": "code",
   "execution_count": 11,
   "metadata": {},
   "outputs": [
    {
     "data": {
      "text/html": [
       "<div>\n",
       "<style scoped>\n",
       "    .dataframe tbody tr th:only-of-type {\n",
       "        vertical-align: middle;\n",
       "    }\n",
       "\n",
       "    .dataframe tbody tr th {\n",
       "        vertical-align: top;\n",
       "    }\n",
       "\n",
       "    .dataframe thead th {\n",
       "        text-align: right;\n",
       "    }\n",
       "</style>\n",
       "<table border=\"1\" class=\"dataframe\">\n",
       "  <thead>\n",
       "    <tr style=\"text-align: right;\">\n",
       "      <th></th>\n",
       "      <th>MedInc</th>\n",
       "      <th>HouseAge</th>\n",
       "      <th>AveRooms</th>\n",
       "      <th>AveBedrms</th>\n",
       "      <th>Population</th>\n",
       "      <th>AveOccup</th>\n",
       "      <th>Latitude</th>\n",
       "      <th>Longitude</th>\n",
       "      <th>MedianHouseValue</th>\n",
       "    </tr>\n",
       "  </thead>\n",
       "  <tbody>\n",
       "    <tr>\n",
       "      <th>MedInc</th>\n",
       "      <td>1.000000</td>\n",
       "      <td>-0.142435</td>\n",
       "      <td>0.657482</td>\n",
       "      <td>-0.227488</td>\n",
       "      <td>0.000984</td>\n",
       "      <td>-0.069799</td>\n",
       "      <td>-0.084654</td>\n",
       "      <td>-0.015461</td>\n",
       "      <td>0.689001</td>\n",
       "    </tr>\n",
       "    <tr>\n",
       "      <th>HouseAge</th>\n",
       "      <td>-0.142435</td>\n",
       "      <td>1.000000</td>\n",
       "      <td>-0.230360</td>\n",
       "      <td>-0.132477</td>\n",
       "      <td>-0.307620</td>\n",
       "      <td>-0.006318</td>\n",
       "      <td>0.011173</td>\n",
       "      <td>-0.108197</td>\n",
       "      <td>0.105623</td>\n",
       "    </tr>\n",
       "    <tr>\n",
       "      <th>AveRooms</th>\n",
       "      <td>0.657482</td>\n",
       "      <td>-0.230360</td>\n",
       "      <td>1.000000</td>\n",
       "      <td>0.176210</td>\n",
       "      <td>-0.097907</td>\n",
       "      <td>-0.035624</td>\n",
       "      <td>0.128647</td>\n",
       "      <td>-0.068379</td>\n",
       "      <td>0.311003</td>\n",
       "    </tr>\n",
       "    <tr>\n",
       "      <th>AveBedrms</th>\n",
       "      <td>-0.227488</td>\n",
       "      <td>-0.132477</td>\n",
       "      <td>0.176210</td>\n",
       "      <td>1.000000</td>\n",
       "      <td>0.002474</td>\n",
       "      <td>-0.121060</td>\n",
       "      <td>0.063221</td>\n",
       "      <td>0.011850</td>\n",
       "      <td>-0.096055</td>\n",
       "    </tr>\n",
       "    <tr>\n",
       "      <th>Population</th>\n",
       "      <td>0.000984</td>\n",
       "      <td>-0.307620</td>\n",
       "      <td>-0.097907</td>\n",
       "      <td>0.002474</td>\n",
       "      <td>1.000000</td>\n",
       "      <td>0.225746</td>\n",
       "      <td>-0.133225</td>\n",
       "      <td>0.116115</td>\n",
       "      <td>-0.032739</td>\n",
       "    </tr>\n",
       "    <tr>\n",
       "      <th>AveOccup</th>\n",
       "      <td>-0.069799</td>\n",
       "      <td>-0.006318</td>\n",
       "      <td>-0.035624</td>\n",
       "      <td>-0.121060</td>\n",
       "      <td>0.225746</td>\n",
       "      <td>1.000000</td>\n",
       "      <td>-0.170149</td>\n",
       "      <td>0.178649</td>\n",
       "      <td>-0.281148</td>\n",
       "    </tr>\n",
       "    <tr>\n",
       "      <th>Latitude</th>\n",
       "      <td>-0.084654</td>\n",
       "      <td>0.011173</td>\n",
       "      <td>0.128647</td>\n",
       "      <td>0.063221</td>\n",
       "      <td>-0.133225</td>\n",
       "      <td>-0.170149</td>\n",
       "      <td>1.000000</td>\n",
       "      <td>-0.924664</td>\n",
       "      <td>-0.144160</td>\n",
       "    </tr>\n",
       "    <tr>\n",
       "      <th>Longitude</th>\n",
       "      <td>-0.015461</td>\n",
       "      <td>-0.108197</td>\n",
       "      <td>-0.068379</td>\n",
       "      <td>0.011850</td>\n",
       "      <td>0.116115</td>\n",
       "      <td>0.178649</td>\n",
       "      <td>-0.924664</td>\n",
       "      <td>1.000000</td>\n",
       "      <td>-0.045967</td>\n",
       "    </tr>\n",
       "    <tr>\n",
       "      <th>MedianHouseValue</th>\n",
       "      <td>0.689001</td>\n",
       "      <td>0.105623</td>\n",
       "      <td>0.311003</td>\n",
       "      <td>-0.096055</td>\n",
       "      <td>-0.032739</td>\n",
       "      <td>-0.281148</td>\n",
       "      <td>-0.144160</td>\n",
       "      <td>-0.045967</td>\n",
       "      <td>1.000000</td>\n",
       "    </tr>\n",
       "  </tbody>\n",
       "</table>\n",
       "</div>"
      ],
      "text/plain": [
       "                    MedInc  HouseAge  AveRooms  AveBedrms  Population  \\\n",
       "MedInc            1.000000 -0.142435  0.657482  -0.227488    0.000984   \n",
       "HouseAge         -0.142435  1.000000 -0.230360  -0.132477   -0.307620   \n",
       "AveRooms          0.657482 -0.230360  1.000000   0.176210   -0.097907   \n",
       "AveBedrms        -0.227488 -0.132477  0.176210   1.000000    0.002474   \n",
       "Population        0.000984 -0.307620 -0.097907   0.002474    1.000000   \n",
       "AveOccup         -0.069799 -0.006318 -0.035624  -0.121060    0.225746   \n",
       "Latitude         -0.084654  0.011173  0.128647   0.063221   -0.133225   \n",
       "Longitude        -0.015461 -0.108197 -0.068379   0.011850    0.116115   \n",
       "MedianHouseValue  0.689001  0.105623  0.311003  -0.096055   -0.032739   \n",
       "\n",
       "                  AveOccup  Latitude  Longitude  MedianHouseValue  \n",
       "MedInc           -0.069799 -0.084654  -0.015461          0.689001  \n",
       "HouseAge         -0.006318  0.011173  -0.108197          0.105623  \n",
       "AveRooms         -0.035624  0.128647  -0.068379          0.311003  \n",
       "AveBedrms        -0.121060  0.063221   0.011850         -0.096055  \n",
       "Population        0.225746 -0.133225   0.116115         -0.032739  \n",
       "AveOccup          1.000000 -0.170149   0.178649         -0.281148  \n",
       "Latitude         -0.170149  1.000000  -0.924664         -0.144160  \n",
       "Longitude         0.178649 -0.924664   1.000000         -0.045967  \n",
       "MedianHouseValue -0.281148 -0.144160  -0.045967          1.000000  "
      ]
     },
     "execution_count": 11,
     "metadata": {},
     "output_type": "execute_result"
    }
   ],
   "source": [
    "df.corr()"
   ]
  },
  {
   "cell_type": "markdown",
   "metadata": {},
   "source": [
    "From the data above, most of the data appear to be uncorrelated, apart from latitude and longitude, which makes sense as they correspond to coordinates.\n",
    "Even for the previously mentioned AveRooms, AveBedrms and AveOccup, there appears to be a weak negative correlation with MedianHouseValue. Doesn't seem like I will be able to drop the parameters."
   ]
  },
  {
   "cell_type": "markdown",
   "metadata": {},
   "source": [
    "### Hypothesis Testing"
   ]
  },
  {
   "cell_type": "markdown",
   "metadata": {},
   "source": [
    "I will perform a simple hypothesis test to check for the correlation between latitude and longitude."
   ]
  },
  {
   "cell_type": "code",
   "execution_count": 12,
   "metadata": {},
   "outputs": [],
   "source": [
    "#Assuming a 5% significance level for all the tests\n",
    "alpha = 0.05\n",
    "\n",
    "def hypothesis_result(p_value):\n",
    "    p_value = round(p_value,4)\n",
    "    if p_value < alpha:\n",
    "        print (\"As p-value is \",p_value,\", which is lower than the significance level, we reject the null hypothesis.\")\n",
    "    else:\n",
    "        print (\"As p-value is \",p_value,\", which is higher than the significance level, we do not reject the null hypothesis.\")"
   ]
  },
  {
   "cell_type": "markdown",
   "metadata": {},
   "source": [
    "**First Hypothesis Test**\n",
    "<br> I will perform a Pearson correlation test using stats.pearsonr.\n",
    "<br>\n",
    "<br> Null Hypothesis: Both sets of data are uncorrelated.\n",
    "<br> Alternative Hypothesis:  Both sets of data are somewhat correlated."
   ]
  },
  {
   "cell_type": "code",
   "execution_count": 13,
   "metadata": {},
   "outputs": [
    {
     "name": "stdout",
     "output_type": "stream",
     "text": [
      "As p-value is  0.0 , which is lower than the significance level, we reject the null hypothesis.\n",
      "The correlation coefficient between Latitude and Longitude is: -0.9247\n"
     ]
    }
   ],
   "source": [
    "s1, p1 = stats.pearsonr(df['Latitude'],df['Longitude'])\n",
    "\n",
    "hypothesis_result(p1)\n",
    "print(\"The correlation coefficient between Latitude and Longitude is: \" + str(round(s1,4)))"
   ]
  },
  {
   "cell_type": "markdown",
   "metadata": {},
   "source": [
    "The above hypothsis confirms that there is significant correlation between Longitude and latitude. As Longitude has a weaker correlation to the MedianHouseValue compared to Latitude, I will drop the Longitude parameter from the dataset."
   ]
  },
  {
   "cell_type": "markdown",
   "metadata": {},
   "source": [
    "### Splitting of Dataset (Training/Validation/Testing)"
   ]
  },
  {
   "cell_type": "markdown",
   "metadata": {},
   "source": [
    "Since there is not much hypertuning of parameters (apart for Ridge and Lasso Linear Regression models), I will be splitting the dataset into train and test only."
   ]
  },
  {
   "cell_type": "code",
   "execution_count": 14,
   "metadata": {},
   "outputs": [],
   "source": [
    "# Splitting the data set into training and test set\n",
    "\n",
    "X = df.iloc[:,:-1]\n",
    "X = X.drop(['Longitude'],axis=1)\n",
    "Y = df['MedianHouseValue']\n",
    "\n",
    "X_train, X_test, y_train, y_test = train_test_split(X, Y, test_size=0.3, random_state=2)"
   ]
  },
  {
   "cell_type": "code",
   "execution_count": 15,
   "metadata": {},
   "outputs": [
    {
     "name": "stdout",
     "output_type": "stream",
     "text": [
      "Data in X_train: 14448\n",
      "Data in y_train: 14448\n",
      "Data in X_test: 6192\n",
      "Data in y_test: 6192\n"
     ]
    }
   ],
   "source": [
    "# Print the distribution of data between the training and testing dataset\n",
    "\n",
    "print(\"Data in X_train: \" + str(len(X_train)))\n",
    "print(\"Data in y_train: \" + str(len(y_train)))\n",
    "print(\"Data in X_test: \" + str(len(X_test)))\n",
    "print(\"Data in y_test: \" + str(len(y_test)))"
   ]
  },
  {
   "cell_type": "markdown",
   "metadata": {},
   "source": [
    "### Polynomial Features"
   ]
  },
  {
   "cell_type": "markdown",
   "metadata": {},
   "source": [
    "Since there isn't a clear linear relationship between the variables and MedianHouseValue, there might be a need to check if there are higher dimension relationships between them, such as quadratic ,cubic or perhaps even higher level dimensions. Hence, I will be generating polynomial features from the provided data to see if it is able to improve results. i have selected degree = 4 after some trial and error with inputting some values."
   ]
  },
  {
   "cell_type": "code",
   "execution_count": 16,
   "metadata": {},
   "outputs": [],
   "source": [
    "from sklearn.preprocessing import PolynomialFeatures\n",
    "\n",
    "poly = PolynomialFeatures(degree = 4, interaction_only=True)\n",
    "\n",
    "X_poly_train = poly.fit_transform(X_train)\n",
    "\n",
    "X_poly_test = poly.fit_transform(X_test)"
   ]
  },
  {
   "cell_type": "markdown",
   "metadata": {},
   "source": [
    "### Feature Scaling"
   ]
  },
  {
   "cell_type": "code",
   "execution_count": 17,
   "metadata": {},
   "outputs": [],
   "source": [
    "# Scaling the x training and testing dataset\n",
    "scaler = preprocessing.StandardScaler().fit(X_poly_train)\n",
    "\n",
    "X_train_scaled = scaler.transform(X_poly_train)\n",
    "X_test_scaled = scaler.transform(X_poly_test)"
   ]
  },
  {
   "cell_type": "markdown",
   "metadata": {},
   "source": [
    "### Imbalanced Dataset (Is there a need for Upsampling/Downsampling?)"
   ]
  },
  {
   "cell_type": "code",
   "execution_count": 18,
   "metadata": {},
   "outputs": [
    {
     "data": {
      "image/png": "[encoded data removed]",
      "text/plain": [
       "<Figure size 432x288 with 1 Axes>"
      ]
     },
     "metadata": {
      "needs_background": "light"
     },
     "output_type": "display_data"
    }
   ],
   "source": [
    "ax = sns.kdeplot(df['MedianHouseValue'], shade=True)"
   ]
  },
  {
   "cell_type": "markdown",
   "metadata": {},
   "source": [
    "From the histogram previously and kdeplot above, I can see that for the entire dataset on MedianHouseValue, it is mostly a positively skewed distribution with a slight peak of values near the positive tail. \n",
    "\n",
    "As I am currently not aware of any python library tools available to deal with imbalanced dataset for regression, I will not be performing any upsampling or downsampling. As far as I know, there are self-built logics such as Synthetic Minority Over-Sampling Technique for Regression (SMOTER) and SMOGN, but i will not be using them here."
   ]
  },
  {
   "cell_type": "markdown",
   "metadata": {},
   "source": [
    "**PCA decomposition**"
   ]
  },
  {
   "cell_type": "code",
   "execution_count": 19,
   "metadata": {},
   "outputs": [
    {
     "data": {
      "text/plain": [
       "(14448, 99)"
      ]
     },
     "execution_count": 19,
     "metadata": {},
     "output_type": "execute_result"
    }
   ],
   "source": [
    "X_poly_train.shape"
   ]
  },
  {
   "cell_type": "code",
   "execution_count": 20,
   "metadata": {},
   "outputs": [
    {
     "name": "stdout",
     "output_type": "stream",
     "text": [
      "[0.35682586 0.24605032 0.19903654 0.0813853  0.04648784]\n",
      "Sum of Explained Variance Ratio: 0.9298\n"
     ]
    }
   ],
   "source": [
    "from sklearn.decomposition import PCA\n",
    "\n",
    "pca = PCA(n_components=5)\n",
    "\n",
    "X_train_PCA = pca.fit(X_train_scaled)\n",
    "\n",
    "print(X_train_PCA.explained_variance_ratio_)\n",
    "\n",
    "print(\"Sum of Explained Variance Ratio: \" + str(round(sum(X_train_PCA.explained_variance_ratio_),4)))\n",
    "\n",
    "X_train_PCA = pca.fit_transform(X_train_scaled)\n",
    "\n",
    "X_test_PCA = pca.fit_transform(X_test_scaled)"
   ]
  },
  {
   "cell_type": "markdown",
   "metadata": {},
   "source": [
    "Since there are 99 parameters generated by polynomial features, I have decided to reduce the number of parameters used to 5 instead. Withing these 5, approximately 93% of it could be explained, which is sufficient for the task of predicting the accuracy of the MedianHouseValues."
   ]
  },
  {
   "cell_type": "markdown",
   "metadata": {},
   "source": [
    "### Perform Machine Learning Algorithms"
   ]
  },
  {
   "cell_type": "markdown",
   "metadata": {},
   "source": [
    "I have selected quite a number of different machine learning algorithms to perform regression on the MedianHousingValues. However to be honest, I do not expect very good results as I have achieved with classification problems."
   ]
  },
  {
   "cell_type": "code",
   "execution_count": 21,
   "metadata": {},
   "outputs": [],
   "source": [
    "def ML_test(Mdl):\n",
    "    mdl = Mdl.fit(X_train_scaled, y_train)\n",
    "    y_pred = mdl.predict(X_test_scaled)\n",
    "    train_acc_score = \"%.2f%%\" % (mdl.score(X_train_scaled, y_train)*100)\n",
    "    test_acc_score = \"%.2f%%\" % (mdl.score(X_test_scaled, y_test)*100)\n",
    "    evs = round(explained_variance_score(y_test,y_pred),4)\n",
    "    mae = round(mean_absolute_error(y_test,y_pred),4)\n",
    "    mse = round(mean_squared_error(y_test,y_pred),4)\n",
    "    \n",
    "    return train_acc_score, test_acc_score, evs, mae, mse"
   ]
  },
  {
   "cell_type": "code",
   "execution_count": 22,
   "metadata": {},
   "outputs": [],
   "source": [
    "# Prepare an empty summary dataframe to append the data of the various models for comparison\n",
    "summary = pd.DataFrame(columns=('Model', 'Training Accuracy', 'Test Accuracy Score','Test explained_variance_score', \\\n",
    "                                'Test MAE', 'Test MSE'))"
   ]
  },
  {
   "cell_type": "code",
   "execution_count": 23,
   "metadata": {},
   "outputs": [],
   "source": [
    "# Linear Regression Model\n",
    "\n",
    "mdl_LR = LinearRegression()\n",
    "model_name = \"LinearRegression\"\n",
    "\n",
    "train_acc_score, test_acc_score, evs, mae, mse = ML_test(mdl_LR)\n",
    "\n",
    "summary = summary.append({'Model' : model_name, 'Training Accuracy' : train_acc_score, 'Test Accuracy Score' : test_acc_score,\\\n",
    "                       'Test explained_variance_score' : evs, 'Test MAE' : mae, 'Test MSE': mse}, \\\n",
    "                         ignore_index=True)"
   ]
  },
  {
   "cell_type": "code",
   "execution_count": 24,
   "metadata": {},
   "outputs": [],
   "source": [
    "# Ridge Model\n",
    "\n",
    "mdl_R = Ridge()\n",
    "Param_grid = {'alpha': list(np.arange(0.1,1.1,0.1))}\n",
    "model_name = \"Ridge\"\n",
    "\n",
    "Mdl = GridSearchCV(mdl_R,Param_grid,cv=10)\n",
    "\n",
    "train_acc_score, test_acc_score, evs, mae, mse = ML_test(Mdl)\n",
    "\n",
    "summary = summary.append({'Model' : model_name, 'Training Accuracy' : train_acc_score, 'Test Accuracy Score' : test_acc_score,\\\n",
    "                       'Test explained_variance_score' : evs, 'Test MAE' : mae, 'Test MSE': mse}, \\\n",
    "                         ignore_index=True)"
   ]
  },
  {
   "cell_type": "code",
   "execution_count": 25,
   "metadata": {},
   "outputs": [],
   "source": [
    "# Lasso Model\n",
    "\n",
    "mdl_L = Lasso()\n",
    "model_name = \"Lasso\"\n",
    "\n",
    "Mdl = GridSearchCV(mdl_L,Param_grid,cv=10)\n",
    "\n",
    "train_acc_score, test_acc_score, evs, mae, mse = ML_test(Mdl)\n",
    "\n",
    "summary = summary.append({'Model' : model_name, 'Training Accuracy' : train_acc_score, 'Test Accuracy Score' : test_acc_score,\\\n",
    "                       'Test explained_variance_score' : evs, 'Test MAE' : mae, 'Test MSE': mse}, \\\n",
    "                         ignore_index=True)"
   ]
  },
  {
   "cell_type": "code",
   "execution_count": 26,
   "metadata": {},
   "outputs": [],
   "source": [
    "# Decision Tree Regressor Model\n",
    "\n",
    "mdl_dt = DecisionTreeRegressor(random_state=1)\n",
    "model_name = \"DecisionTree Regressor\"\n",
    "\n",
    "train_acc_score, test_acc_score, evs, mae, mse = ML_test(mdl_dt)\n",
    "\n",
    "summary = summary.append({'Model' : model_name, 'Training Accuracy' : train_acc_score, 'Test Accuracy Score' : test_acc_score,\\\n",
    "                       'Test explained_variance_score' : evs, 'Test MAE' : mae, 'Test MSE': mse}, \\\n",
    "                         ignore_index=True)"
   ]
  },
  {
   "cell_type": "code",
   "execution_count": 27,
   "metadata": {},
   "outputs": [],
   "source": [
    "# Random Forest Regressor Model\n",
    "\n",
    "mdl_rf = RandomForestRegressor(random_state=1)\n",
    "model_name = \"RandomForest Regressor\"\n",
    "\n",
    "train_acc_score, test_acc_score, evs, mae, mse = ML_test(mdl_rf)\n",
    "\n",
    "summary = summary.append({'Model' : model_name, 'Training Accuracy' : train_acc_score, 'Test Accuracy Score' : test_acc_score,\\\n",
    "                       'Test explained_variance_score' : evs, 'Test MAE' : mae, 'Test MSE': mse}, \\\n",
    "                         ignore_index=True)"
   ]
  },
  {
   "cell_type": "code",
   "execution_count": 28,
   "metadata": {},
   "outputs": [],
   "source": [
    "# AdaBoost Regressor Model\n",
    "\n",
    "mdl_ADR = AdaBoostRegressor(random_state=7).fit(X_train_scaled, y_train)\n",
    "model_name = \"AdaBoost Regressor\"\n",
    "\n",
    "train_acc_score, test_acc_score, evs, mae, mse = ML_test(mdl_ADR)\n",
    "\n",
    "summary = summary.append({'Model' : model_name, 'Training Accuracy' : train_acc_score, 'Test Accuracy Score' : test_acc_score,\\\n",
    "                       'Test explained_variance_score' : evs, 'Test MAE' : mae, 'Test MSE': mse}, \\\n",
    "                         ignore_index=True)\n"
   ]
  },
  {
   "cell_type": "code",
   "execution_count": 29,
   "metadata": {},
   "outputs": [],
   "source": [
    "# Bagging Regressor Model\n",
    "\n",
    "mdl_BagR = BaggingRegressor(random_state=7).fit(X_train_scaled, y_train)\n",
    "model_name = \"Bagging Regressor\"\n",
    "\n",
    "train_acc_score, test_acc_score, evs, mae, mse = ML_test(mdl_BagR)\n",
    "\n",
    "summary = summary.append({'Model' : model_name, 'Training Accuracy' : train_acc_score, 'Test Accuracy Score' : test_acc_score,\\\n",
    "                       'Test explained_variance_score' : evs, 'Test MAE' : mae, 'Test MSE': mse}, \\\n",
    "                         ignore_index=True)"
   ]
  },
  {
   "cell_type": "markdown",
   "metadata": {},
   "source": [
    "## Comparative Analysis"
   ]
  },
  {
   "cell_type": "code",
   "execution_count": 30,
   "metadata": {},
   "outputs": [
    {
     "data": {
      "text/html": [
       "<div>\n",
       "<style scoped>\n",
       "    .dataframe tbody tr th:only-of-type {\n",
       "        vertical-align: middle;\n",
       "    }\n",
       "\n",
       "    .dataframe tbody tr th {\n",
       "        vertical-align: top;\n",
       "    }\n",
       "\n",
       "    .dataframe thead th {\n",
       "        text-align: right;\n",
       "    }\n",
       "</style>\n",
       "<table border=\"1\" class=\"dataframe\">\n",
       "  <thead>\n",
       "    <tr style=\"text-align: right;\">\n",
       "      <th></th>\n",
       "      <th>Model</th>\n",
       "      <th>Training Accuracy</th>\n",
       "      <th>Test Accuracy Score</th>\n",
       "      <th>Test explained_variance_score</th>\n",
       "      <th>Test MAE</th>\n",
       "      <th>Test MSE</th>\n",
       "    </tr>\n",
       "  </thead>\n",
       "  <tbody>\n",
       "    <tr>\n",
       "      <th>0</th>\n",
       "      <td>LinearRegression</td>\n",
       "      <td>68.14%</td>\n",
       "      <td>67.64%</td>\n",
       "      <td>0.6765</td>\n",
       "      <td>0.4760</td>\n",
       "      <td>0.4378</td>\n",
       "    </tr>\n",
       "    <tr>\n",
       "      <th>1</th>\n",
       "      <td>Ridge</td>\n",
       "      <td>67.96%</td>\n",
       "      <td>67.78%</td>\n",
       "      <td>0.6778</td>\n",
       "      <td>0.4758</td>\n",
       "      <td>0.4360</td>\n",
       "    </tr>\n",
       "    <tr>\n",
       "      <th>2</th>\n",
       "      <td>Lasso</td>\n",
       "      <td>58.78%</td>\n",
       "      <td>57.92%</td>\n",
       "      <td>0.5793</td>\n",
       "      <td>0.5636</td>\n",
       "      <td>0.5693</td>\n",
       "    </tr>\n",
       "    <tr>\n",
       "      <th>3</th>\n",
       "      <td>DecisionTree Regressor</td>\n",
       "      <td>100.00%</td>\n",
       "      <td>44.18%</td>\n",
       "      <td>0.4420</td>\n",
       "      <td>0.5976</td>\n",
       "      <td>0.7552</td>\n",
       "    </tr>\n",
       "    <tr>\n",
       "      <th>4</th>\n",
       "      <td>RandomForest Regressor</td>\n",
       "      <td>96.11%</td>\n",
       "      <td>72.27%</td>\n",
       "      <td>0.7228</td>\n",
       "      <td>0.4269</td>\n",
       "      <td>0.3752</td>\n",
       "    </tr>\n",
       "    <tr>\n",
       "      <th>5</th>\n",
       "      <td>AdaBoost Regressor</td>\n",
       "      <td>45.34%</td>\n",
       "      <td>44.69%</td>\n",
       "      <td>0.5763</td>\n",
       "      <td>0.7349</td>\n",
       "      <td>0.7483</td>\n",
       "    </tr>\n",
       "    <tr>\n",
       "      <th>6</th>\n",
       "      <td>Bagging Regressor</td>\n",
       "      <td>94.55%</td>\n",
       "      <td>69.91%</td>\n",
       "      <td>0.6992</td>\n",
       "      <td>0.4462</td>\n",
       "      <td>0.4071</td>\n",
       "    </tr>\n",
       "  </tbody>\n",
       "</table>\n",
       "</div>"
      ],
      "text/plain": [
       "                    Model Training Accuracy Test Accuracy Score  \\\n",
       "0        LinearRegression            68.14%              67.64%   \n",
       "1                   Ridge            67.96%              67.78%   \n",
       "2                   Lasso            58.78%              57.92%   \n",
       "3  DecisionTree Regressor           100.00%              44.18%   \n",
       "4  RandomForest Regressor            96.11%              72.27%   \n",
       "5      AdaBoost Regressor            45.34%              44.69%   \n",
       "6       Bagging Regressor            94.55%              69.91%   \n",
       "\n",
       "   Test explained_variance_score  Test MAE  Test MSE  \n",
       "0                         0.6765    0.4760    0.4378  \n",
       "1                         0.6778    0.4758    0.4360  \n",
       "2                         0.5793    0.5636    0.5693  \n",
       "3                         0.4420    0.5976    0.7552  \n",
       "4                         0.7228    0.4269    0.3752  \n",
       "5                         0.5763    0.7349    0.7483  \n",
       "6                         0.6992    0.4462    0.4071  "
      ]
     },
     "execution_count": 30,
     "metadata": {},
     "output_type": "execute_result"
    }
   ],
   "source": [
    "summary"
   ]
  },
  {
   "cell_type": "markdown",
   "metadata": {},
   "source": [
    "For regression problems, I will use a different approach to compare the various Machine Learning models via explanatory variable, mean absolute error and mean squared error.\n",
    "<br> Comparing the above results, it can be seen that despite overfitting the model during the training phase, the RandomForest Regressor model performs the best overall in terms of test accuracy, explained varianced score, mean absolute error and mean squared error."
   ]
  },
  {
   "cell_type": "markdown",
   "metadata": {},
   "source": [
    "## Conclusion"
   ]
  },
  {
   "cell_type": "markdown",
   "metadata": {},
   "source": [
    "I have gone through the usual preparatory data analysis and perform regression on the adjusted data accounting for polynomial features, scaling and decomposition. At the end of the day, RandomForest Regressor performs the best in terms of test accuracy score, greatest explanatory power and least mean squared error despite overfitting to the training data."
   ]
  }
 ],
 "metadata": {
  "kernelspec": {
   "display_name": "Python 3",
   "language": "python",
   "name": "python3"
  },
  "language_info": {
   "codemirror_mode": {
    "name": "ipython",
    "version": 3
   },
   "file_extension": ".py",
   "mimetype": "text/x-python",
   "name": "python",
   "nbconvert_exporter": "python",
   "pygments_lexer": "ipython3",
   "version": "3.7.3"
  }
 },
 "nbformat": 4,
 "nbformat_minor": 2
}
